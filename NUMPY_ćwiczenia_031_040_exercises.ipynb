{
  "nbformat": 4,
  "nbformat_minor": 0,
  "metadata": {
    "colab": {
      "provenance": [],
      "include_colab_link": true
    },
    "kernelspec": {
      "name": "python3",
      "display_name": "Python 3"
    }
  },
  "cells": [
    {
      "cell_type": "markdown",
      "metadata": {
        "id": "view-in-github",
        "colab_type": "text"
      },
      "source": [
        "<a href=\"https://colab.research.google.com/github/IzaLech/data-scientist-bootcamp/blob/main/NUMPY_%C4%87wiczenia_031_040_exercises.ipynb\" target=\"_parent\"><img src=\"https://colab.research.google.com/assets/colab-badge.svg\" alt=\"Open In Colab\"/></a>"
      ]
    },
    {
      "cell_type": "markdown",
      "metadata": {
        "id": "WLEgCW5F1hho"
      },
      "source": [
        "## Numpy\n",
        "\n",
        "### Spis treści:\n",
        "* [Import biblioteki](#0)\n",
        "* [Ćwiczenie 31](#1)\n",
        "* [Ćwiczenie 32](#2)\n",
        "* [Ćwiczenie 33](#3)\n",
        "* [Ćwiczenie 34](#4)\n",
        "* [Ćwiczenie 35](#5)\n",
        "* [Ćwiczenie 36](#6)\n",
        "* [Ćwiczenie 37](#7)\n",
        "* [Ćwiczenie 38](#8)\n",
        "* [Ćwiczenie 39](#9)\n",
        "* [Ćwiczenie 40](#10)"
      ]
    },
    {
      "cell_type": "markdown",
      "metadata": {
        "id": "zeLOLmTj1kBM"
      },
      "source": [
        "### <a name='0'></a>Import biblioteki"
      ]
    },
    {
      "cell_type": "code",
      "metadata": {
        "id": "HXMB7SMe1Wnz",
        "colab": {
          "base_uri": "https://localhost:8080/",
          "height": 36
        },
        "outputId": "c29a901a-344f-4b83-f5ea-32099aae6255"
      },
      "source": [
        "import numpy as np\n",
        "\n",
        "np.__version__"
      ],
      "execution_count": 1,
      "outputs": [
        {
          "output_type": "execute_result",
          "data": {
            "text/plain": [
              "'1.22.4'"
            ],
            "application/vnd.google.colaboratory.intrinsic+json": {
              "type": "string"
            }
          },
          "metadata": {},
          "execution_count": 1
        }
      ]
    },
    {
      "cell_type": "markdown",
      "metadata": {
        "id": "cyc70pMe1oCg"
      },
      "source": [
        "### <a name='1'></a> Ćwiczenie 31\n",
        "Wykonaj dwa sortowania podanej poniżej tablicy $A$:\n",
        "* wierszowo (rosnąco)\n",
        "* kolumnowo (rosnąco)\n",
        "\n",
        "\n",
        "```\n",
        "A = np.array([[4.99, 3.49, 9.99],\n",
        "              [1.99, 9.99, 4.99],\n",
        "              [14.99, 2.39, 7.29]])\n",
        "```\n",
        "\n",
        "\n",
        "\n",
        "__Wskazówka:__ Użyj funkcji _np.sort()_."
      ]
    },
    {
      "cell_type": "code",
      "metadata": {
        "id": "ed-_5hm4IvnA",
        "colab": {
          "base_uri": "https://localhost:8080/"
        },
        "outputId": "3f123100-b817-4938-b208-0578cab72646"
      },
      "source": [
        "A = np.array([[4.99, 3.49, 9.99],\n",
        "              [1.99, 9.99, 4.99],\n",
        "              [14.99, 2.39, 7.29]])\n",
        "np.sort(A, axis=0) # sortowanie kolumnami"
      ],
      "execution_count": 3,
      "outputs": [
        {
          "output_type": "execute_result",
          "data": {
            "text/plain": [
              "array([[ 1.99,  2.39,  4.99],\n",
              "       [ 4.99,  3.49,  7.29],\n",
              "       [14.99,  9.99,  9.99]])"
            ]
          },
          "metadata": {},
          "execution_count": 3
        }
      ]
    },
    {
      "cell_type": "code",
      "source": [
        "np.sort(A, axis=1) # sortowanie wierszami "
      ],
      "metadata": {
        "colab": {
          "base_uri": "https://localhost:8080/"
        },
        "id": "Jij89B8DFuG1",
        "outputId": "cbdcbace-25ac-4ad3-8651-51a849ff4f27"
      },
      "execution_count": 4,
      "outputs": [
        {
          "output_type": "execute_result",
          "data": {
            "text/plain": [
              "array([[ 3.49,  4.99,  9.99],\n",
              "       [ 1.99,  4.99,  9.99],\n",
              "       [ 2.39,  7.29, 14.99]])"
            ]
          },
          "metadata": {},
          "execution_count": 4
        }
      ]
    },
    {
      "cell_type": "code",
      "source": [
        "np.sort(A) # sortowanie wierszami "
      ],
      "metadata": {
        "colab": {
          "base_uri": "https://localhost:8080/"
        },
        "id": "Bi1H2nQ_F8C7",
        "outputId": "af2a2b04-a834-4923-fe05-eb23e36b5f85"
      },
      "execution_count": 5,
      "outputs": [
        {
          "output_type": "execute_result",
          "data": {
            "text/plain": [
              "array([[ 3.49,  4.99,  9.99],\n",
              "       [ 1.99,  4.99,  9.99],\n",
              "       [ 2.39,  7.29, 14.99]])"
            ]
          },
          "metadata": {},
          "execution_count": 5
        }
      ]
    },
    {
      "cell_type": "markdown",
      "metadata": {
        "id": "J9pY1rtr1sC0"
      },
      "source": [
        "### <a name='2'></a> Ćwiczenie 32\n",
        "Wytnij wszystkie elementy tablicy $A$ o wartości wyższej niż 8.\n",
        "\n",
        "\n",
        "```\n",
        "A = np.array([[4.99, 3.49, 9.99],\n",
        "              [1.99, 9.99, 4.99],\n",
        "              [14.99, 2.39, 7.29]])\n",
        "```\n",
        "\n"
      ]
    },
    {
      "cell_type": "code",
      "metadata": {
        "id": "15swBr0tMExC",
        "colab": {
          "base_uri": "https://localhost:8080/"
        },
        "outputId": "61ba5be9-52e3-4988-82e7-0a43e4e59d05"
      },
      "source": [
        "A = np.array([[4.99, 3.49, 9.99],\n",
        "              [1.99, 9.99, 4.99],\n",
        "              [14.99, 2.39, 7.29]])\n",
        "\n",
        "A[np.array(A>8)]"
      ],
      "execution_count": 8,
      "outputs": [
        {
          "output_type": "execute_result",
          "data": {
            "text/plain": [
              "array([ 9.99,  9.99, 14.99])"
            ]
          },
          "metadata": {},
          "execution_count": 8
        }
      ]
    },
    {
      "cell_type": "code",
      "source": [
        "A[A>8]"
      ],
      "metadata": {
        "colab": {
          "base_uri": "https://localhost:8080/"
        },
        "id": "wkRoAILqGXVl",
        "outputId": "5c06b423-c9ca-4733-f491-6ba23d553a02"
      },
      "execution_count": 9,
      "outputs": [
        {
          "output_type": "execute_result",
          "data": {
            "text/plain": [
              "array([ 9.99,  9.99, 14.99])"
            ]
          },
          "metadata": {},
          "execution_count": 9
        }
      ]
    },
    {
      "cell_type": "markdown",
      "metadata": {
        "id": "XQLYT2m11wVG"
      },
      "source": [
        "### <a name='3'></a> Ćwiczenie 33\n",
        "Podana jest poniższa tablica $A$. Zastąp elementy powyżej wartości 10 wartością stałą 10 (obcięcie wartości do 10).\n",
        "\n",
        "\n",
        "```\n",
        "A = np.array([[4.99, 3.49, 9.99],\n",
        "              [1.99, 9.99, 14.99],\n",
        "              [14.99, 2.39, 7.29]])\n",
        "```\n",
        "\n",
        "\n",
        "\n",
        "__Wskazówka:__ Użyj funkcji _np.where()_."
      ]
    },
    {
      "cell_type": "code",
      "metadata": {
        "id": "1korOkbrPXC9",
        "colab": {
          "base_uri": "https://localhost:8080/"
        },
        "outputId": "9a3d6556-cefc-453e-c3d2-e681ba87e832"
      },
      "source": [
        "A = np.array([[4.99, 3.49, 9.99],\n",
        "              [1.99, 9.99, 14.99],\n",
        "              [14.99, 2.39, 7.29]])\n",
        "np.where(A>10 , 10.0 , A)"
      ],
      "execution_count": 15,
      "outputs": [
        {
          "output_type": "execute_result",
          "data": {
            "text/plain": [
              "array([[ 4.99,  3.49,  9.99],\n",
              "       [ 1.99,  9.99, 10.  ],\n",
              "       [10.  ,  2.39,  7.29]])"
            ]
          },
          "metadata": {},
          "execution_count": 15
        }
      ]
    },
    {
      "cell_type": "markdown",
      "metadata": {
        "id": "4xTKSUzg10MK"
      },
      "source": [
        "### <a name='4'></a> Ćwiczenie 34\n",
        "Poniższą dwuwymiarową tablicę $A$ przedstaw w postaci 'wypłaszczonej' jednowymiarowej tablicy.  \n",
        "\n",
        "```\n",
        "A = np.array([[4.99, 3.49, 9.99],\n",
        "              [1.99, 9.99, 14.99],\n",
        "              [14.99, 2.39, 7.29]])\n",
        "```\n",
        "\n",
        "\n",
        "\n",
        "__Oczekiwany wynik:__\n",
        "\n",
        "\n",
        "```\n",
        "array([ 4.99,  3.49,  9.99,  1.99,  9.99, 14.99, 14.99,  2.39,  7.29])\n",
        "```\n",
        "\n",
        "__Wskazówka:__ Użyj funkcji _np.ravel()_.\n",
        "\n",
        "\n"
      ]
    },
    {
      "cell_type": "code",
      "metadata": {
        "id": "COqibgznQtj0",
        "colab": {
          "base_uri": "https://localhost:8080/"
        },
        "outputId": "9df0da14-03c6-488e-9fab-6a74a6050582"
      },
      "source": [
        "A = np.array([[4.99, 3.49, 9.99],\n",
        "              [1.99, 9.99, 14.99],\n",
        "              [14.99, 2.39, 7.29]])\n",
        "np.ravel(A)"
      ],
      "execution_count": 17,
      "outputs": [
        {
          "output_type": "execute_result",
          "data": {
            "text/plain": [
              "array([ 4.99,  3.49,  9.99,  1.99,  9.99, 14.99, 14.99,  2.39,  7.29])"
            ]
          },
          "metadata": {},
          "execution_count": 17
        }
      ]
    },
    {
      "cell_type": "markdown",
      "metadata": {
        "id": "o3HKIKlP15Ro"
      },
      "source": [
        "### <a name='5'></a> Ćwiczenie 35\n",
        "Zbuduj tablicę o identycznym kształcie i typie danych jak tablica $A$ oraz wypełnij ją stałą wartością 0.0.\n",
        "\n",
        "\n",
        "```\n",
        "A = np.array([[4.99, 3.49, 9.99],\n",
        "              [1.99, 9.99, 14.99],\n",
        "              [14.99, 2.39, 7.29]])\n",
        "```\n",
        "__Oczekiwany wynik:__\n",
        "\n",
        "\n",
        "```\n",
        "array([[0., 0., 0.],\n",
        "       [0., 0., 0.],\n",
        "       [0., 0., 0.]])\n",
        "```\n",
        "\n",
        "\n",
        "\n",
        "\n",
        "\n",
        "__Wskazówka:__ Użyj funkcji _np.zeros_like()_."
      ]
    },
    {
      "cell_type": "code",
      "metadata": {
        "id": "Nb5kpwa3Sh-P",
        "colab": {
          "base_uri": "https://localhost:8080/"
        },
        "outputId": "792cba77-e68e-486e-94a0-a6c3cf328294"
      },
      "source": [
        "A = np.array([[4.99, 3.49, 9.99],\n",
        "              [1.99, 9.99, 14.99],\n",
        "              [14.99, 2.39, 7.29]])\n",
        "\n",
        "np.zeros_like(A)"
      ],
      "execution_count": 18,
      "outputs": [
        {
          "output_type": "execute_result",
          "data": {
            "text/plain": [
              "array([[0., 0., 0.],\n",
              "       [0., 0., 0.],\n",
              "       [0., 0., 0.]])"
            ]
          },
          "metadata": {},
          "execution_count": 18
        }
      ]
    },
    {
      "cell_type": "markdown",
      "metadata": {
        "id": "PunXd_Ey16so"
      },
      "source": [
        "### <a name='6'></a> Ćwiczenie 36\n",
        "\n",
        "Zbuduj tablicę o identycznym kształcie i typie danych jak tablica $A$ oraz wypełnij ją stałą wartością 9.99.\n",
        "\n",
        "\n",
        "```\n",
        "A = np.array([[4.99, 3.49, 9.99],\n",
        "              [1.99, 9.99, 14.99],\n",
        "              [14.99, 2.39, 7.29]])\n",
        "```\n",
        "\n",
        "__Oczekiwany wynik:__\n",
        "\n",
        "\n",
        "```\n",
        "array([[9.99, 9.99, 9.99],\n",
        "       [9.99, 9.99, 9.99],\n",
        "       [9.99, 9.99, 9.99]])\n",
        "```\n",
        "\n",
        "\n",
        "\n",
        "__Wskazówka:__ Użyj funkcji _np.full_like()_."
      ]
    },
    {
      "cell_type": "code",
      "metadata": {
        "id": "XigJhXuPUQ4_",
        "colab": {
          "base_uri": "https://localhost:8080/"
        },
        "outputId": "06ba74c2-44bb-487a-e4fa-85e1f8b4a3a0"
      },
      "source": [
        " np.full_like(A, fill_value=9.99)"
      ],
      "execution_count": 20,
      "outputs": [
        {
          "output_type": "execute_result",
          "data": {
            "text/plain": [
              "array([[9.99, 9.99, 9.99],\n",
              "       [9.99, 9.99, 9.99],\n",
              "       [9.99, 9.99, 9.99]])"
            ]
          },
          "metadata": {},
          "execution_count": 20
        }
      ]
    },
    {
      "cell_type": "markdown",
      "metadata": {
        "id": "hOhqDRz618Tx"
      },
      "source": [
        "### <a name='7'></a> Ćwiczenie 37\n",
        "Zbuduj tablicę dwuwymiarową (macierz kwadratową dolną trójkątną) podnaną poniżej:\n",
        "\n",
        "\n",
        "```\n",
        "array([[1., 0., 0., 0., 0.],\n",
        "       [1., 1., 0., 0., 0.],\n",
        "       [1., 1., 1., 0., 0.],\n",
        "       [1., 1., 1., 1., 0.],\n",
        "       [1., 1., 1., 1., 1.]])\n",
        "```\n",
        "__Wskazówka:__ Użyj funkcji _np.tri()_.\n"
      ]
    },
    {
      "cell_type": "code",
      "metadata": {
        "id": "0T6tBTzeVDN7",
        "colab": {
          "base_uri": "https://localhost:8080/"
        },
        "outputId": "bbce30cb-9666-4a99-d29a-238c5949d6f7"
      },
      "source": [
        "np.tri( 5, 5, dtype='float')"
      ],
      "execution_count": 21,
      "outputs": [
        {
          "output_type": "execute_result",
          "data": {
            "text/plain": [
              "array([[1., 0., 0., 0., 0.],\n",
              "       [1., 1., 0., 0., 0.],\n",
              "       [1., 1., 1., 0., 0.],\n",
              "       [1., 1., 1., 1., 0.],\n",
              "       [1., 1., 1., 1., 1.]])"
            ]
          },
          "metadata": {},
          "execution_count": 21
        }
      ]
    },
    {
      "cell_type": "code",
      "source": [
        "np.tri( N=5)"
      ],
      "metadata": {
        "colab": {
          "base_uri": "https://localhost:8080/"
        },
        "id": "nPWNV5kBHyD3",
        "outputId": "022fb8ff-3d62-4470-83b7-45155bea1965"
      },
      "execution_count": 22,
      "outputs": [
        {
          "output_type": "execute_result",
          "data": {
            "text/plain": [
              "array([[1., 0., 0., 0., 0.],\n",
              "       [1., 1., 0., 0., 0.],\n",
              "       [1., 1., 1., 0., 0.],\n",
              "       [1., 1., 1., 1., 0.],\n",
              "       [1., 1., 1., 1., 1.]])"
            ]
          },
          "metadata": {},
          "execution_count": 22
        }
      ]
    },
    {
      "cell_type": "markdown",
      "metadata": {
        "id": "TXUd_4631-gw"
      },
      "source": [
        "### <a name='8'></a> Ćwiczenie 38\n",
        "Stwórz dowolną tablicę 3-wymiarową o kształcie $(2, 3, 4)$."
      ]
    },
    {
      "cell_type": "code",
      "metadata": {
        "id": "NZoI-8PeXudZ",
        "colab": {
          "base_uri": "https://localhost:8080/"
        },
        "outputId": "dc6af88f-e2b2-4e01-8eeb-8f6a84c6f5ff"
      },
      "source": [
        "C = np.array([[[1,5,7,6],[4,5,6,3],[3,3,5,5]] , [[3,3,5,5],[3,3,5,5],[1,3,0,0]]])\n",
        "C"
      ],
      "execution_count": 37,
      "outputs": [
        {
          "output_type": "execute_result",
          "data": {
            "text/plain": [
              "array([[[1, 5, 7, 6],\n",
              "        [4, 5, 6, 3],\n",
              "        [3, 3, 5, 5]],\n",
              "\n",
              "       [[3, 3, 5, 5],\n",
              "        [3, 3, 5, 5],\n",
              "        [1, 3, 0, 0]]])"
            ]
          },
          "metadata": {},
          "execution_count": 37
        }
      ]
    },
    {
      "cell_type": "code",
      "source": [
        "C.shape"
      ],
      "metadata": {
        "colab": {
          "base_uri": "https://localhost:8080/"
        },
        "id": "_2HLd3cCIgjG",
        "outputId": "dec863f0-d6d8-4855-8366-666ffeb18317"
      },
      "execution_count": 38,
      "outputs": [
        {
          "output_type": "execute_result",
          "data": {
            "text/plain": [
              "(2, 3, 4)"
            ]
          },
          "metadata": {},
          "execution_count": 38
        }
      ]
    },
    {
      "cell_type": "markdown",
      "metadata": {
        "id": "tgI6xEn-2AQo"
      },
      "source": [
        "### <a name='9'></a> Ćwiczenie 39\n",
        "\n",
        "Wygeneruj dwuwymiarową tablicę o kształcie _(200, 300)_ wypełnioną wartościami losowymi od 0 do 255 włacznie i typie danych _np.uint8_ i przypisz do zmiennej _image_."
      ]
    },
    {
      "cell_type": "code",
      "metadata": {
        "id": "4UXbFDEVZr1J",
        "colab": {
          "base_uri": "https://localhost:8080/"
        },
        "outputId": "915c985e-0edb-4aa6-cb6b-0148f68d4cf9"
      },
      "source": [
        "image = np.random.randint(low=0, high=256, size=(200, 300), dtype=np.uint8)\n",
        "image"
      ],
      "execution_count": 46,
      "outputs": [
        {
          "output_type": "execute_result",
          "data": {
            "text/plain": [
              "array([[159, 127, 106, ...,  77, 136, 165],\n",
              "       [140, 245,  23, ..., 201, 154, 165],\n",
              "       [ 33,  80, 145, ...,  50, 228, 184],\n",
              "       ...,\n",
              "       [ 32, 221, 177, ...,  57,  43, 196],\n",
              "       [ 95, 185, 248, ...,  60, 249, 248],\n",
              "       [207, 220, 169, ..., 123, 122, 148]], dtype=uint8)"
            ]
          },
          "metadata": {},
          "execution_count": 46
        }
      ]
    },
    {
      "cell_type": "code",
      "source": [
        "image.shape"
      ],
      "metadata": {
        "colab": {
          "base_uri": "https://localhost:8080/"
        },
        "id": "QyludgAHKTFN",
        "outputId": "78fcd95a-8d56-4426-8022-390cb99c54d2"
      },
      "execution_count": 42,
      "outputs": [
        {
          "output_type": "execute_result",
          "data": {
            "text/plain": [
              "(200, 300)"
            ]
          },
          "metadata": {},
          "execution_count": 42
        }
      ]
    },
    {
      "cell_type": "markdown",
      "metadata": {
        "id": "nA-CIMPfbTcB"
      },
      "source": [
        "Nastepnie uruchom poniższy blok kodu. W rezultacie uzyskasz podgląd na losowo wygenerowany czarno-biały obraz."
      ]
    },
    {
      "cell_type": "code",
      "metadata": {
        "id": "wga9cGARZ-3O",
        "colab": {
          "base_uri": "https://localhost:8080/",
          "height": 217
        },
        "outputId": "56cc4ebc-d9b2-4912-c963-d1a4f120d5fa"
      },
      "source": [
        "from google.colab.patches import cv2_imshow\n",
        "\n",
        "cv2_imshow(image)"
      ],
      "execution_count": 47,
      "outputs": [
        {
          "output_type": "display_data",
          "data": {
            "text/plain": [
              "<PIL.Image.Image image mode=L size=300x200 at 0x7F7911C47880>"
            ],
            "image/png": "[encoded data removed]"
          },
          "metadata": {}
        }
      ]
    },
    {
      "cell_type": "markdown",
      "metadata": {
        "id": "wxhpf-uq2B1I"
      },
      "source": [
        "### <a name='10'></a> Ćwiczenie 40\n",
        "Tablicę _image_ z poprzedniego zadania posortuj wzdłuż wiersza rosnąco. Następnie dzięki funkcji _cv2_imshow()_ wyświetl otrzymany obraz."
      ]
    },
    {
      "cell_type": "code",
      "metadata": {
        "id": "YFc0KW6URsuc",
        "colab": {
          "base_uri": "https://localhost:8080/"
        },
        "outputId": "a21a2824-5370-45f5-a32a-478c68083541"
      },
      "source": [
        "B = np.sort(image)\n",
        "B"
      ],
      "execution_count": 51,
      "outputs": [
        {
          "output_type": "execute_result",
          "data": {
            "text/plain": [
              "array([[  2,   2,   3, ..., 252, 253, 254],\n",
              "       [  0,   0,   0, ..., 255, 255, 255],\n",
              "       [  0,   0,   0, ..., 251, 253, 254],\n",
              "       ...,\n",
              "       [  1,   1,   1, ..., 254, 255, 255],\n",
              "       [  0,   0,   1, ..., 254, 254, 255],\n",
              "       [  0,   0,   2, ..., 253, 255, 255]], dtype=uint8)"
            ]
          },
          "metadata": {},
          "execution_count": 51
        }
      ]
    },
    {
      "cell_type": "code",
      "source": [
        "cv2_imshow(B)"
      ],
      "metadata": {
        "colab": {
          "base_uri": "https://localhost:8080/",
          "height": 217
        },
        "id": "BRmp4lbuKvc0",
        "outputId": "9534b107-a52f-43eb-e38b-8853918a3ffd"
      },
      "execution_count": 52,
      "outputs": [
        {
          "output_type": "display_data",
          "data": {
            "text/plain": [
              "<PIL.Image.Image image mode=L size=300x200 at 0x7F7911C7EAD0>"
            ],
            "image/png": "[encoded data removed]"
          },
          "metadata": {}
        }
      ]
    },
    {
      "cell_type": "markdown",
      "metadata": {
        "id": "RAU2F-3Mcgsr"
      },
      "source": [
        "Tablicę _image_ z poprzedniego zadania posortuj wzdłuż kolumny rosnąco. Następnie dzięki funkcji _cv2_imshow()_ wyświetl otrzymany obraz."
      ]
    },
    {
      "cell_type": "code",
      "metadata": {
        "id": "EAvOxzhRbprl",
        "colab": {
          "base_uri": "https://localhost:8080/"
        },
        "outputId": "0633ffd5-09e3-41c5-e61f-8cf238548965"
      },
      "source": [
        "C = np.sort(image , axis=0)\n",
        "C"
      ],
      "execution_count": 53,
      "outputs": [
        {
          "output_type": "execute_result",
          "data": {
            "text/plain": [
              "array([[  1,   2,   1, ...,   1,   0,   1],\n",
              "       [  2,   2,   2, ...,   4,   3,   1],\n",
              "       [  4,   3,   6, ...,   5,   3,   2],\n",
              "       ...,\n",
              "       [247, 254, 251, ..., 253, 249, 254],\n",
              "       [250, 254, 252, ..., 255, 251, 254],\n",
              "       [254, 255, 252, ..., 255, 255, 255]], dtype=uint8)"
            ]
          },
          "metadata": {},
          "execution_count": 53
        }
      ]
    },
    {
      "cell_type": "code",
      "source": [
        "cv2_imshow(C)"
      ],
      "metadata": {
        "colab": {
          "base_uri": "https://localhost:8080/",
          "height": 217
        },
        "id": "l0n2tjrFLDiL",
        "outputId": "9d46f164-9fe8-4a13-90c3-6ce0c7eff40e"
      },
      "execution_count": 54,
      "outputs": [
        {
          "output_type": "display_data",
          "data": {
            "text/plain": [
              "<PIL.Image.Image image mode=L size=300x200 at 0x7F7911C7FAF0>"
            ],
            "image/png": "[encoded data removed]"
          },
          "metadata": {}
        }
      ]
    }
  ]
}