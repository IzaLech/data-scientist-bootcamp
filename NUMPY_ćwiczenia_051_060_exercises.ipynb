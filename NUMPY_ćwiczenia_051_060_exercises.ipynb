{
  "nbformat": 4,
  "nbformat_minor": 0,
  "metadata": {
    "colab": {
      "provenance": [],
      "include_colab_link": true
    },
    "kernelspec": {
      "name": "python3",
      "display_name": "Python 3"
    }
  },
  "cells": [
    {
      "cell_type": "markdown",
      "metadata": {
        "id": "view-in-github",
        "colab_type": "text"
      },
      "source": [
        "<a href=\"https://colab.research.google.com/github/IzaLech/data-scientist-bootcamp/blob/%C4%86wiczenia_NUMPY/NUMPY_%C4%87wiczenia_051_060_exercises.ipynb\" target=\"_parent\"><img src=\"https://colab.research.google.com/assets/colab-badge.svg\" alt=\"Open In Colab\"/></a>"
      ]
    },
    {
      "cell_type": "markdown",
      "metadata": {
        "id": "WLEgCW5F1hho"
      },
      "source": [
        "## Numpy\n",
        "\n",
        "### Spis treści:\n",
        "* [Import biblioteki](#0)\n",
        "* [Ćwiczenie 51](#1)\n",
        "* [Ćwiczenie 52](#2)\n",
        "* [Ćwiczenie 53](#3)\n",
        "* [Ćwiczenie 54](#4)\n",
        "* [Ćwiczenie 55](#5)\n",
        "* [Ćwiczenie 56](#6)\n",
        "* [Ćwiczenie 57](#7)\n",
        "* [Ćwiczenie 58](#8)\n",
        "* [Ćwiczenie 59](#9)\n",
        "* [Ćwiczenie 60](#10)"
      ]
    },
    {
      "cell_type": "markdown",
      "metadata": {
        "id": "zeLOLmTj1kBM"
      },
      "source": [
        "### <a name='0'></a>Import biblioteki"
      ]
    },
    {
      "cell_type": "code",
      "metadata": {
        "id": "HXMB7SMe1Wnz",
        "colab": {
          "base_uri": "https://localhost:8080/",
          "height": 36
        },
        "outputId": "e325e9ae-b64a-4222-8e8c-7501635c3cbb"
      },
      "source": [
        "import numpy as np\n",
        "\n",
        "np.random.seed(42)\n",
        "np.__version__"
      ],
      "execution_count": 1,
      "outputs": [
        {
          "output_type": "execute_result",
          "data": {
            "text/plain": [
              "'1.22.4'"
            ],
            "application/vnd.google.colaboratory.intrinsic+json": {
              "type": "string"
            }
          },
          "metadata": {},
          "execution_count": 1
        }
      ]
    },
    {
      "cell_type": "markdown",
      "metadata": {
        "id": "cyc70pMe1oCg"
      },
      "source": [
        "### <a name='1'></a> Ćwiczenie 51\n",
        "Podane są poniżej dwie tablice $A$ i $B$:\n",
        "\n",
        "\n",
        "```\n",
        "A = np.array([[3, 4, 5],\n",
        "              [8, 3, 1]])\n",
        "B = np.array([[0, 5, 2],\n",
        "              [4, 2, 1]])\n",
        "```\n",
        "* Połącz te tablice w następujący sposób:\n",
        "\n",
        "\n",
        "```\n",
        "array([[3, 4, 5],\n",
        "       [8, 3, 1],\n",
        "       [0, 5, 2],\n",
        "       [4, 2, 1]])\n",
        "```\n",
        "__Wskazówka:__ Wykorzystaj funkcję _np.concatenate()_.\n",
        "\n",
        "\n",
        "\n"
      ]
    },
    {
      "cell_type": "code",
      "metadata": {
        "id": "G06kZluT8eIh",
        "colab": {
          "base_uri": "https://localhost:8080/"
        },
        "outputId": "ad39a0ba-353f-4b06-d333-9ef2c8527d72"
      },
      "source": [
        "A = np.array([[3, 4, 5],\n",
        "              [8, 3, 1]])\n",
        "B = np.array([[0, 5, 2],\n",
        "              [4, 2, 1]])\n",
        "np.concatenate((A, B), axis=0)"
      ],
      "execution_count": 7,
      "outputs": [
        {
          "output_type": "execute_result",
          "data": {
            "text/plain": [
              "array([[3, 4, 5],\n",
              "       [8, 3, 1],\n",
              "       [0, 5, 2],\n",
              "       [4, 2, 1]])"
            ]
          },
          "metadata": {},
          "execution_count": 7
        }
      ]
    },
    {
      "cell_type": "markdown",
      "metadata": {
        "id": "ODw_gitA98Ul"
      },
      "source": [
        "* Połącz te tablice w następujący sposób:\n",
        "\n",
        "\n",
        "```\n",
        "array([[3, 4, 5, 0, 5, 2],\n",
        "       [8, 3, 1, 4, 2, 1]])\n",
        "```\n",
        "__Wskazówka:__ Wykorzystaj funkcję _np.concatenate()_."
      ]
    },
    {
      "cell_type": "code",
      "metadata": {
        "id": "1pmGjLj88tcf",
        "colab": {
          "base_uri": "https://localhost:8080/"
        },
        "outputId": "574f1284-5aee-40fe-e5e4-32f051696210"
      },
      "source": [
        "np.concatenate((A, B), axis=1)"
      ],
      "execution_count": 8,
      "outputs": [
        {
          "output_type": "execute_result",
          "data": {
            "text/plain": [
              "array([[3, 4, 5, 0, 5, 2],\n",
              "       [8, 3, 1, 4, 2, 1]])"
            ]
          },
          "metadata": {},
          "execution_count": 8
        }
      ]
    },
    {
      "cell_type": "markdown",
      "metadata": {
        "id": "J9pY1rtr1sC0"
      },
      "source": [
        "### <a name='2'></a> Ćwiczenie 52\n",
        "Podana jest tablica zawierająca dane _data_ oraz tablica zawierająca docelową klasę dla danego wiersza _target_:\n",
        "\n",
        "```\n",
        "data = np.array([[4.3, 4.2],\n",
        "                 [3.1, 3.6]])\n",
        "target = np.array([[0],\n",
        "                   [1]])\n",
        "```\n",
        "\n"
      ]
    },
    {
      "cell_type": "markdown",
      "metadata": {
        "id": "8cAKF7ok-RjX"
      },
      "source": [
        "Połącz te tablice w jedną tak jak pokazano poniżej:\n",
        "\n",
        "\n",
        "```\n",
        "array([[4.3, 4.2, 0. ],\n",
        "       [3.1, 3.6, 1. ]])\n",
        "```\n",
        "\n"
      ]
    },
    {
      "cell_type": "code",
      "metadata": {
        "id": "4lc68Wfr8z3u",
        "colab": {
          "base_uri": "https://localhost:8080/"
        },
        "outputId": "25101636-22bc-4617-92e6-c80914b759c7"
      },
      "source": [
        "data = np.array([[4.3, 4.2],\n",
        "                 [3.1, 3.6]])\n",
        "target = np.array([[0],\n",
        "                   [1]])\n",
        "np.concatenate((data, target), axis=1)"
      ],
      "execution_count": 11,
      "outputs": [
        {
          "output_type": "execute_result",
          "data": {
            "text/plain": [
              "array([[4.3, 4.2, 0. ],\n",
              "       [3.1, 3.6, 1. ]])"
            ]
          },
          "metadata": {},
          "execution_count": 11
        }
      ]
    },
    {
      "cell_type": "markdown",
      "metadata": {
        "id": "XQLYT2m11wVG"
      },
      "source": [
        "### <a name='3'></a> Ćwiczenie 53\n",
        "Podane są trzy poniższe jednowymiarowe tablice:  \n",
        "\n",
        "\n",
        "```\n",
        "feature1 = np.array([1.6, 0.9, 2.2])\n",
        "feature2 = np.array([0.4, 1.3, 3.2])\n",
        "feature3 = np.array([1.4, 0.3, 1.2])\n",
        "```\n",
        "Przekształć każdą z tych tablic w kolumnę i sklej w jedną dużą tablicę.\n",
        "\n",
        "__Oczekiwany wynik:__\n",
        "\n",
        "\n",
        "```\n",
        "array([[1.6, 0.4, 1.4],\n",
        "       [0.9, 1.3, 0.3],\n",
        "       [2.2, 3.2, 1.2]])\n",
        "```\n",
        "\n",
        "__Wskazówka:__ Wykorzystaj funkcję _np.column_stack()_.\n",
        "\n"
      ]
    },
    {
      "cell_type": "code",
      "metadata": {
        "id": "xfPf_vq7-jBP",
        "colab": {
          "base_uri": "https://localhost:8080/"
        },
        "outputId": "c3665d12-3fdd-4118-b393-b30ca9f6d008"
      },
      "source": [
        "feature1 = np.array([1.6, 0.9, 2.2])\n",
        "feature2 = np.array([0.4, 1.3, 3.2])\n",
        "feature3 = np.array([1.4, 0.3, 1.2])\n",
        "\n",
        "np.column_stack([feature1 , feature2 , feature3])"
      ],
      "execution_count": 14,
      "outputs": [
        {
          "output_type": "execute_result",
          "data": {
            "text/plain": [
              "array([[1.6, 0.4, 1.4],\n",
              "       [0.9, 1.3, 0.3],\n",
              "       [2.2, 3.2, 1.2]])"
            ]
          },
          "metadata": {},
          "execution_count": 14
        }
      ]
    },
    {
      "cell_type": "markdown",
      "metadata": {
        "id": "4xTKSUzg10MK"
      },
      "source": [
        "### <a name='4'></a> Ćwiczenie 54\n",
        "Podana jest poniższa dwuwymiarowa tablica:\n",
        "\n",
        "```\n",
        "A = np.random.randint(low=0, high=7, size=(5, 8))\n",
        "A[:, :2] = 0\n",
        "A[:, -2:] = 1\n",
        "A\n",
        "```\n",
        "```\n",
        "array([[0, 0, 4, 6, 2, 4, 1, 1],\n",
        "       [0, 0, 6, 2, 2, 4, 1, 1],\n",
        "       [0, 0, 1, 3, 5, 5, 1, 1],\n",
        "       [0, 0, 3, 1, 5, 4, 1, 1],\n",
        "       [0, 0, 2, 6, 1, 3, 1, 1]])\n",
        "```\n",
        "\n",
        "Podziel tablicę na 3 części tak aby pierwsze dwie kolumny stanowiły pierwszą tablicę $A1$, cztery kolejne drugą tablicę $A2$ oraz dwie ostatnie trzecią tablicę $A3$.\n",
        "\n",
        "__Wskazówka:__ Wykorzystaj funkcję _np.split()_."
      ]
    },
    {
      "cell_type": "code",
      "metadata": {
        "id": "U5MFrLUHBsEf",
        "colab": {
          "base_uri": "https://localhost:8080/"
        },
        "outputId": "4768a49b-a1a0-48bf-f269-46a20fe6f3c3"
      },
      "source": [
        "A = np.random.randint(low=0, high=7, size=(5, 8))\n",
        "A[:, :2] = 0\n",
        "A[:, -2:] = 1\n",
        "\n",
        "A1, A2, A3 = np.split(A, [2 , 6] , axis=1)\n",
        "print(A1)\n",
        "print(A2)\n",
        "print(A3)"
      ],
      "execution_count": 22,
      "outputs": [
        {
          "output_type": "stream",
          "name": "stdout",
          "text": [
            "[[0 0]\n",
            " [0 0]\n",
            " [0 0]\n",
            " [0 0]\n",
            " [0 0]]\n",
            "[[6 0 0 3]\n",
            " [2 2 0 2]\n",
            " [0 3 6 0]\n",
            " [6 5 4 2]\n",
            " [0 2 4 6]]\n",
            "[[1 1]\n",
            " [1 1]\n",
            " [1 1]\n",
            " [1 1]\n",
            " [1 1]]\n"
          ]
        }
      ]
    },
    {
      "cell_type": "markdown",
      "metadata": {
        "id": "o3HKIKlP15Ro"
      },
      "source": [
        "### <a name='5'></a> Ćwiczenie 55\n",
        "Podana jest poniższa tablica $A$:\n",
        "\n",
        "```\n",
        "A = np.random.randint(low=0, high=2, size=(10, 6))\n",
        "```\n",
        "Wyznacz łączną liczbę elementów niezerowych dla tej tablicy.\n",
        "\n",
        "__Wskazówka:__ Wykorzystaj funkcję _np.count_nonzero()_.\n"
      ]
    },
    {
      "cell_type": "code",
      "metadata": {
        "id": "j5E2nOFyDy1b",
        "colab": {
          "base_uri": "https://localhost:8080/"
        },
        "outputId": "58c34098-65b5-4835-ea60-a4e73632c76a"
      },
      "source": [
        "A = np.random.randint(low=0, high=2, size=(10, 6))\n",
        "print(A)\n",
        "\n",
        "np.count_nonzero(A)"
      ],
      "execution_count": 26,
      "outputs": [
        {
          "output_type": "stream",
          "name": "stdout",
          "text": [
            "[[0 0 1 1 0 0]\n",
            " [1 1 1 1 0 1]\n",
            " [1 0 1 0 1 1]\n",
            " [1 0 0 1 0 0]\n",
            " [0 0 0 0 1 1]\n",
            " [0 1 1 1 1 0]\n",
            " [1 1 0 0 1 1]\n",
            " [1 1 1 1 0 1]\n",
            " [1 0 0 0 0 1]\n",
            " [1 1 1 1 1 0]]\n"
          ]
        },
        {
          "output_type": "execute_result",
          "data": {
            "text/plain": [
              "35"
            ]
          },
          "metadata": {},
          "execution_count": 26
        }
      ]
    },
    {
      "cell_type": "markdown",
      "metadata": {
        "id": "wJde65uYhJ2f"
      },
      "source": [
        "Wyznacz łączną liczbę elementów niezerowych dla każdego wiersza tej tablicy.\n",
        "\n",
        "__Wskazówka:__ Wykorzystaj funkcję _np.count_nonzero()_."
      ]
    },
    {
      "cell_type": "code",
      "metadata": {
        "id": "BWG-icQuEEPS",
        "colab": {
          "base_uri": "https://localhost:8080/"
        },
        "outputId": "34feb03c-5f51-465e-f66d-a8aaa28f781b"
      },
      "source": [
        "np.count_nonzero(A , axis=0) #to są elementy niezerowe dla każdej kolumny"
      ],
      "execution_count": 27,
      "outputs": [
        {
          "output_type": "execute_result",
          "data": {
            "text/plain": [
              "array([7, 5, 6, 6, 5, 6])"
            ]
          },
          "metadata": {},
          "execution_count": 27
        }
      ]
    },
    {
      "cell_type": "code",
      "source": [
        "np.count_nonzero(A , axis=1)"
      ],
      "metadata": {
        "colab": {
          "base_uri": "https://localhost:8080/"
        },
        "id": "J068u2imeh5C",
        "outputId": "92ae739b-0307-49d5-ea7b-c4934c29ef5c"
      },
      "execution_count": 28,
      "outputs": [
        {
          "output_type": "execute_result",
          "data": {
            "text/plain": [
              "array([2, 5, 4, 2, 2, 4, 4, 5, 2, 5])"
            ]
          },
          "metadata": {},
          "execution_count": 28
        }
      ]
    },
    {
      "cell_type": "markdown",
      "metadata": {
        "id": "PunXd_Ey16so"
      },
      "source": [
        "### <a name='6'></a> Ćwiczenie 56\n",
        "Poniżej podana jest przykładowa tablica $A$:\n",
        "\n",
        "```\n",
        "A = np.random.randn(10, 4)\n",
        "```\n",
        "\n",
        "```\n",
        "array([[-0.53441645, -1.49505387, -0.78925833,  0.74371128],\n",
        "       [-0.21216142, -0.42686879,  0.50144833,  1.15818665],\n",
        "       [ 0.25711687,  0.3145129 ,  1.37186213,  0.17555329],\n",
        "       [-0.30928855,  0.6731255 , -0.25663018, -0.36782572],\n",
        "       [ 1.27373362, -0.29195267, -2.65517605,  0.34551794],\n",
        "       [-0.39551645, -0.28913686,  0.45293633, -0.16606091],\n",
        "       [ 0.21493883, -2.02231493, -0.94305681,  1.40395874],\n",
        "       [-0.0185508 , -1.67350462, -1.07253183, -0.99258618],\n",
        "       [ 0.10234768, -0.43260928, -0.6591823 ,  0.0039373 ],\n",
        "       [ 0.4777541 , -0.25902864, -0.57470921, -0.42149822]])\n",
        "```\n",
        "\n",
        "\n",
        "Ustaw odopowiednią opcję biblioteki numpy pozwalającą drukować tablice z określoną precyzją. Ustaw jej wartość na 4 i wydrukuj tablicę $A$.\n",
        "\n"
      ]
    },
    {
      "cell_type": "code",
      "metadata": {
        "id": "aL6C9MYSYkaL",
        "colab": {
          "base_uri": "https://localhost:8080/"
        },
        "outputId": "0ffb8088-eee6-42fa-e562-0994ee5ef600"
      },
      "source": [
        "A = np.random.randn(10, 4)\n",
        "\n",
        "np.set_printoptions(precision=4)\n",
        "print(A)"
      ],
      "execution_count": 34,
      "outputs": [
        {
          "output_type": "stream",
          "name": "stdout",
          "text": [
            "[[ 0.3227 -0.8272  0.5193  1.5327]\n",
            " [-0.1088  0.4017  0.6901 -0.4012]\n",
            " [ 0.2241  0.0126  0.0977 -0.773 ]\n",
            " [ 0.0245  0.498   1.4511  0.9593]\n",
            " [ 2.1532 -0.7673  0.8723  0.1833]\n",
            " [ 2.1898 -0.8083 -0.8397 -0.5994]\n",
            " [-2.1239 -0.5258 -0.7591  0.1504]\n",
            " [ 0.3418  1.8762  0.9504 -0.5769]\n",
            " [-0.8984  0.4919 -1.3202  1.8315]\n",
            " [ 1.1794 -0.4692 -1.7131  1.3539]]\n"
          ]
        }
      ]
    },
    {
      "cell_type": "markdown",
      "metadata": {
        "id": "hOhqDRz618Tx"
      },
      "source": [
        "### <a name='7'></a> Ćwiczenie 57\n",
        "Podana jest poniższa tablica numpy $A$:\n",
        "\n",
        "```\n",
        "A = np.array([1.2e-6, 1.7e-7])\n",
        "```\n",
        "\n",
        "Ustaw wartość precyzji na 8. Następnie ustaw odopowiednią opcję biblioteki numpy pozwalającą stłumić notację wykładniczą. Wydrukuj tablicę $A$.\n",
        "\n",
        "__Oczekiwany wynik:__\n",
        "\n",
        "\n",
        "```\n",
        "array([0.0000012 , 0.00000017])\n",
        "```\n",
        "\n",
        "\n",
        "\n"
      ]
    },
    {
      "cell_type": "code",
      "metadata": {
        "id": "BUr3XXiWdUWi",
        "colab": {
          "base_uri": "https://localhost:8080/"
        },
        "outputId": "2df53c9d-ad0e-455c-8e31-93704de3dd0d"
      },
      "source": [
        "A = np.array([1.2e-6, 1.7e-7])\n",
        "A"
      ],
      "execution_count": 36,
      "outputs": [
        {
          "output_type": "execute_result",
          "data": {
            "text/plain": [
              "array([1.2e-06, 1.7e-07])"
            ]
          },
          "metadata": {},
          "execution_count": 36
        }
      ]
    },
    {
      "cell_type": "code",
      "source": [
        "np.set_printoptions(suppress=True , precision=8)\n",
        "A"
      ],
      "metadata": {
        "colab": {
          "base_uri": "https://localhost:8080/"
        },
        "id": "ScsHdft-fOjc",
        "outputId": "a159be0d-ba76-4cb6-f90b-b1c202d261cd"
      },
      "execution_count": 38,
      "outputs": [
        {
          "output_type": "execute_result",
          "data": {
            "text/plain": [
              "array([0.0000012 , 0.00000017])"
            ]
          },
          "metadata": {},
          "execution_count": 38
        }
      ]
    },
    {
      "cell_type": "markdown",
      "metadata": {
        "id": "TXUd_4631-gw"
      },
      "source": [
        "### <a name='8'></a> Ćwiczenie 58\n",
        "Podana jest poniższa tablica numpy $A$:\n",
        "\n",
        "```\n",
        "A = np.random.randn(8, 4)\n",
        "```\n",
        "Usuń trzecią kolumnę z tablicy $A$.\n",
        "\n",
        "__Oczekiwany wynik:__\n",
        "\n",
        "\n",
        "```\n",
        "array([[-0.55692881, -0.66003196,  0.70856031],\n",
        "       [ 0.22378737, -0.19796576, -0.16889332],\n",
        "       [ 0.26062786,  0.29865445, -0.92259267],\n",
        "       [-2.40317659,  1.79961876, -1.96495796],\n",
        "       [ 0.13051561, -1.7085185 ,  0.54885043],\n",
        "       [ 1.77268727,  0.38751181, -0.05141955],\n",
        "       [-1.80858596, -0.45075211,  0.15332866],\n",
        "       [ 1.94218961, -1.93679529, -1.83350954]])\n",
        "```\n",
        "__Wskazówka:__ Wykorzystaj funkcję _np.delete()_.\n",
        "\n",
        "\n"
      ]
    },
    {
      "cell_type": "code",
      "metadata": {
        "id": "o5PxnILogU6z",
        "colab": {
          "base_uri": "https://localhost:8080/"
        },
        "outputId": "e4f872c9-a7d3-4bc7-f8ab-35e9b6a1d48c"
      },
      "source": [
        "A = np.random.randn(8, 4)\n",
        "A"
      ],
      "execution_count": 39,
      "outputs": [
        {
          "output_type": "execute_result",
          "data": {
            "text/plain": [
              "array([[-0.11453985,  1.23781631, -1.59442766, -0.59937502],\n",
              "       [ 0.0052437 ,  0.04698059, -0.45006547,  0.62284993],\n",
              "       [-1.06762043, -0.14237949,  0.12029563,  0.51443883],\n",
              "       [ 0.71161488, -1.12464209, -1.53411417,  1.27767682],\n",
              "       [ 0.33231401, -0.74848654,  1.55115198,  0.11567463],\n",
              "       [ 1.17929718,  0.06751848,  2.06074792,  1.75534084],\n",
              "       [-0.24896415,  0.97157095,  0.64537595,  1.36863156],\n",
              "       [-0.96492346,  0.68605146,  1.05842449, -1.75873949]])"
            ]
          },
          "metadata": {},
          "execution_count": 39
        }
      ]
    },
    {
      "cell_type": "code",
      "source": [
        "np.delete(A , 2,  axis=1 )"
      ],
      "metadata": {
        "colab": {
          "base_uri": "https://localhost:8080/"
        },
        "id": "UNGg2CnDfnV4",
        "outputId": "cde8416a-ca3a-463b-a079-761c672d2dba"
      },
      "execution_count": 42,
      "outputs": [
        {
          "output_type": "execute_result",
          "data": {
            "text/plain": [
              "array([[-0.11453985,  1.23781631, -0.59937502],\n",
              "       [ 0.0052437 ,  0.04698059,  0.62284993],\n",
              "       [-1.06762043, -0.14237949,  0.51443883],\n",
              "       [ 0.71161488, -1.12464209,  1.27767682],\n",
              "       [ 0.33231401, -0.74848654,  0.11567463],\n",
              "       [ 1.17929718,  0.06751848,  1.75534084],\n",
              "       [-0.24896415,  0.97157095,  1.36863156],\n",
              "       [-0.96492346,  0.68605146, -1.75873949]])"
            ]
          },
          "metadata": {},
          "execution_count": 42
        }
      ]
    },
    {
      "cell_type": "markdown",
      "metadata": {
        "id": "tgI6xEn-2AQo"
      },
      "source": [
        "### <a name='9'></a> Ćwiczenie 59\n",
        "Podana jest tablica jednowymiarowa $v$ (wektor):\n",
        "\n",
        "```\n",
        "v = np.array([3, 4, -2])\n",
        "```\n",
        "Policz normę wektora $v$.\n"
      ]
    },
    {
      "cell_type": "code",
      "metadata": {
        "id": "TYPzAZCwi-Ky",
        "colab": {
          "base_uri": "https://localhost:8080/"
        },
        "outputId": "1a1e7a80-aad7-4eaf-dec9-8e3acf153cc8"
      },
      "source": [
        "v = np.array([3, 4, -2])\n",
        "print(v)\n",
        "np.linalg.norm(v)"
      ],
      "execution_count": 45,
      "outputs": [
        {
          "output_type": "stream",
          "name": "stdout",
          "text": [
            "[ 3  4 -2]\n"
          ]
        },
        {
          "output_type": "execute_result",
          "data": {
            "text/plain": [
              "5.385164807134504"
            ]
          },
          "metadata": {},
          "execution_count": 45
        }
      ]
    },
    {
      "cell_type": "markdown",
      "metadata": {
        "id": "wxhpf-uq2B1I"
      },
      "source": [
        "### <a name='10'></a> Ćwiczenie 60\n",
        "Poniżej podana jest przykładowa tablica $A$:\n",
        "\n",
        "\n",
        "```\n",
        "A = np.random.randint(10, size=(100, 30))\n",
        "```\n",
        "Ustaw odopowiednią opcję biblioteki numpy pozwalającą drukować 10 skrajnych elementów. Wydrukuj tablicę $A$.\n"
      ]
    },
    {
      "cell_type": "code",
      "metadata": {
        "id": "liJX2nIBk-gO",
        "colab": {
          "base_uri": "https://localhost:8080/"
        },
        "outputId": "2012a8a4-5ea6-404e-d317-b1d0c2cf037d"
      },
      "source": [
        "A = np.random.randint(10, size=(100, 30))\n",
        "A"
      ],
      "execution_count": 46,
      "outputs": [
        {
          "output_type": "execute_result",
          "data": {
            "text/plain": [
              "array([[2, 1, 3, ..., 6, 6, 5],\n",
              "       [7, 3, 7, ..., 9, 8, 8],\n",
              "       [5, 7, 0, ..., 8, 6, 4],\n",
              "       ...,\n",
              "       [7, 8, 3, ..., 6, 8, 3],\n",
              "       [9, 2, 4, ..., 5, 5, 4],\n",
              "       [8, 9, 7, ..., 7, 5, 4]])"
            ]
          },
          "metadata": {},
          "execution_count": 46
        }
      ]
    },
    {
      "cell_type": "code",
      "source": [
        "np.set_printoptions(edgeitems=10)\n",
        "A"
      ],
      "metadata": {
        "colab": {
          "base_uri": "https://localhost:8080/"
        },
        "id": "6mLdf2pcgVtO",
        "outputId": "49f07d94-6523-41b6-8dba-aeebecee5617"
      },
      "execution_count": 48,
      "outputs": [
        {
          "output_type": "execute_result",
          "data": {
            "text/plain": [
              "array([[2, 1, 3, 8, 5, 0, 7, 6, 9, 2, ..., 4, 1, 5, 4, 1, 2, 8, 6, 6, 5],\n",
              "       [7, 3, 7, 3, 7, 8, 2, 2, 1, 9, ..., 4, 8, 9, 1, 0, 9, 8, 9, 8, 8],\n",
              "       [5, 7, 0, 9, 3, 0, 7, 0, 2, 3, ..., 2, 6, 1, 9, 5, 2, 2, 8, 6, 4],\n",
              "       [9, 6, 8, 0, 6, 5, 9, 8, 0, 3, ..., 7, 0, 2, 9, 8, 4, 5, 3, 9, 1],\n",
              "       [7, 5, 4, 8, 0, 4, 5, 4, 5, 5, ..., 3, 7, 5, 1, 3, 3, 5, 5, 0, 7],\n",
              "       [5, 2, 8, 1, 7, 9, 2, 4, 5, 9, ..., 4, 3, 2, 0, 5, 1, 7, 9, 4, 6],\n",
              "       [9, 1, 7, 1, 3, 0, 4, 8, 0, 8, ..., 1, 2, 2, 0, 7, 5, 7, 8, 4, 2],\n",
              "       [4, 4, 4, 2, 9, 3, 8, 9, 8, 1, ..., 0, 0, 6, 1, 4, 7, 7, 2, 6, 2],\n",
              "       [5, 5, 2, 6, 2, 7, 9, 3, 0, 3, ..., 1, 9, 4, 9, 0, 5, 5, 3, 7, 3],\n",
              "       [7, 7, 4, 3, 1, 2, 2, 3, 3, 9, ..., 7, 1, 8, 0, 7, 3, 3, 4, 7, 4],\n",
              "       ...,\n",
              "       [3, 7, 8, 3, 9, 9, 5, 0, 3, 6, ..., 6, 4, 8, 0, 6, 9, 6, 3, 8, 4],\n",
              "       [3, 6, 3, 2, 8, 7, 0, 6, 8, 7, ..., 3, 9, 7, 8, 6, 4, 7, 3, 1, 5],\n",
              "       [8, 0, 9, 6, 9, 8, 9, 8, 9, 2, ..., 8, 8, 1, 9, 0, 1, 4, 3, 3, 8],\n",
              "       [7, 5, 0, 1, 5, 1, 9, 4, 4, 5, ..., 5, 8, 3, 2, 7, 9, 8, 4, 8, 1],\n",
              "       [2, 6, 6, 5, 5, 1, 9, 5, 3, 2, ..., 0, 6, 0, 3, 7, 1, 5, 5, 8, 4],\n",
              "       [9, 3, 4, 9, 4, 7, 9, 7, 1, 6, ..., 6, 1, 2, 0, 8, 6, 0, 2, 3, 3],\n",
              "       [4, 2, 2, 0, 6, 9, 0, 1, 3, 3, ..., 6, 9, 8, 8, 4, 9, 0, 0, 5, 1],\n",
              "       [7, 8, 3, 4, 7, 2, 4, 2, 9, 2, ..., 9, 3, 1, 3, 7, 8, 2, 6, 8, 3],\n",
              "       [9, 2, 4, 0, 2, 7, 7, 3, 1, 7, ..., 3, 6, 4, 4, 8, 8, 8, 5, 5, 4],\n",
              "       [8, 9, 7, 6, 6, 5, 4, 3, 2, 2, ..., 4, 8, 2, 8, 5, 3, 6, 7, 5, 4]])"
            ]
          },
          "metadata": {},
          "execution_count": 48
        }
      ]
    }
  ]
}